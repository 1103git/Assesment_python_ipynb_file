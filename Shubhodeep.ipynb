{
 "cells": [
  {
   "cell_type": "markdown",
   "id": "dfb59d7d",
   "metadata": {},
   "source": [
    "### Answer 1\n"
   ]
  },
  {
   "cell_type": "code",
   "execution_count": 1,
   "id": "1ba4ce20",
   "metadata": {},
   "outputs": [
    {
     "name": "stdout",
     "output_type": "stream",
     "text": [
      "2002,2009,2016,2023,2037,2044,2051,2058,2072,2079,2086,2093,2107,2114,2121,2128,2142,2149,2156,2163,2177,2184,2191,2198,2212,2219,2226,2233,2247,2254,2261,2268,2282,2289,2296,2303,2317,2324,2331,2338,2352,2359,2366,2373,2387,2394,2401,2408,2422,2429,2436,2443,2457,2464,2471,2478,2492,2499,2506,2513,2527,2534,2541,2548,2562,2569,2576,2583,2597,2604,2611,2618,2632,2639,2646,2653,2667,2674,2681,2688,2702,2709,2716,2723,2737,2744,2751,2758,2772,2779,2786,2793,2807,2814,2821,2828,2842,2849,2856,2863,2877,2884,2891,2898,2912,2919,2926,2933,2947,2954,2961,2968,2982,2989,2996,3003,3017,3024,3031,3038,3052,3059,3066,3073,3087,3094,3101,3108,3122,3129,3136,3143,3157,3164,3171,3178,3192,3199,"
     ]
    }
   ],
   "source": [
    "for i in range(2000,3200):\n",
    "    if i%7==0 and i%5!=0:\n",
    "        print(i,end=\",\")"
   ]
  },
  {
   "cell_type": "markdown",
   "id": "95e597f4",
   "metadata": {},
   "source": [
    "### Answer 2"
   ]
  },
  {
   "cell_type": "code",
   "execution_count": 103,
   "id": "3fd4c8e4",
   "metadata": {},
   "outputs": [
    {
     "name": "stdout",
     "output_type": "stream",
     "text": [
      "Enter value::5\n",
      "120\n"
     ]
    }
   ],
   "source": [
    "n=int(input(\"Enter value::\"))\n",
    "val=1\n",
    "for i in range(1,n+1):\n",
    "    val=val*i\n",
    "print(val)"
   ]
  },
  {
   "cell_type": "markdown",
   "id": "868d7200",
   "metadata": {},
   "source": [
    "### Answer 3"
   ]
  },
  {
   "cell_type": "code",
   "execution_count": null,
   "id": "7fc44699",
   "metadata": {},
   "outputs": [],
   "source": [
    "dict={}\n",
    "n=int(input(\"Enter value::\"))\n",
    "for i in range(1,n+1):\n",
    "    dict[i]=i*i\n",
    "print(dict)"
   ]
  },
  {
   "cell_type": "markdown",
   "id": "8a8f759b",
   "metadata": {},
   "source": [
    "### Answer 4"
   ]
  },
  {
   "cell_type": "code",
   "execution_count": null,
   "id": "9cb8e61a",
   "metadata": {},
   "outputs": [],
   "source": [
    "l=list(map(int, input(\"Enter multiple value: \").split(\",\")))\n",
    "print(l,tuple(l))"
   ]
  },
  {
   "cell_type": "markdown",
   "id": "20d744f4",
   "metadata": {},
   "source": [
    "### Answer 5"
   ]
  },
  {
   "cell_type": "code",
   "execution_count": null,
   "id": "60c833e4",
   "metadata": {},
   "outputs": [],
   "source": []
  },
  {
   "cell_type": "markdown",
   "id": "a25da53d",
   "metadata": {},
   "source": [
    "### Answer 6"
   ]
  },
  {
   "cell_type": "code",
   "execution_count": null,
   "id": "3e2a870a",
   "metadata": {},
   "outputs": [],
   "source": [
    "import math\n",
    "l=list(map(int, input(\"Enter multiple value: \").split(\",\")))\n",
    "for i in l:\n",
    "    q=round(math.sqrt((2*50*i)/30))\n",
    "    print(q,end=\",\")"
   ]
  },
  {
   "cell_type": "markdown",
   "id": "0f1762d5",
   "metadata": {},
   "source": [
    "### Answer 7"
   ]
  },
  {
   "cell_type": "code",
   "execution_count": null,
   "id": "17058384",
   "metadata": {},
   "outputs": [],
   "source": [
    "row=int(input(\"enter row::\"))\n",
    "col=int(input(\"enter row::\"))\n",
    "res=[[row*col for col in range(col)] for row in range(row)]\n",
    "print(res)"
   ]
  },
  {
   "cell_type": "markdown",
   "id": "c8a7467f",
   "metadata": {},
   "source": [
    "### Answer 8"
   ]
  },
  {
   "cell_type": "code",
   "execution_count": null,
   "id": "5e4918a0",
   "metadata": {},
   "outputs": [],
   "source": [
    "l=list(map(str,input(\"enter words::\").split(\",\")))\n",
    "print(sorted(l))"
   ]
  },
  {
   "cell_type": "markdown",
   "id": "d2bce7f7",
   "metadata": {},
   "source": [
    "### Answer 9"
   ]
  },
  {
   "cell_type": "code",
   "execution_count": null,
   "id": "3f3296e6",
   "metadata": {},
   "outputs": [],
   "source": [
    "string=input(\"enter string\")\n",
    "print(string.upper())"
   ]
  },
  {
   "cell_type": "markdown",
   "id": "04046e48",
   "metadata": {},
   "source": [
    "### Answer 10"
   ]
  },
  {
   "cell_type": "code",
   "execution_count": null,
   "id": "717b67dd",
   "metadata": {},
   "outputs": [],
   "source": [
    "l=list(map(str,input(\"enter words::\").split(\" \")))\n",
    "l=set(l)\n",
    "for i in l:\n",
    "    print(i,end=\" \")"
   ]
  },
  {
   "cell_type": "markdown",
   "id": "ee872408",
   "metadata": {},
   "source": [
    "### Answer 11"
   ]
  },
  {
   "cell_type": "code",
   "execution_count": null,
   "id": "251e2532",
   "metadata": {},
   "outputs": [],
   "source": [
    "def binaryToDecimal(n):\n",
    "    return int(n,2)\n",
    "\n",
    "l=list(map(int,input(\"enter::\").split(\",\")))\n",
    "l1=[]\n",
    "for i in l:\n",
    "    l1.append(str(i))\n",
    "res=[]\n",
    "for i in l1:\n",
    "    res.append(binaryToDecimal(i))\n",
    "for i in res:\n",
    "    if i%5==0:\n",
    "        print(i)"
   ]
  },
  {
   "cell_type": "markdown",
   "id": "3949b223",
   "metadata": {},
   "source": [
    "### Answer 12"
   ]
  },
  {
   "cell_type": "code",
   "execution_count": null,
   "id": "dc98b164",
   "metadata": {},
   "outputs": [],
   "source": [
    "l=[]\n",
    "for i in range(1000,3001):\n",
    "    k=str(i)\n",
    "    c=len(k)\n",
    "    count=0\n",
    "    for i in k:\n",
    "        if int(i)%2==0:\n",
    "            count+=1\n",
    "    if count==c:\n",
    "        l.append(k)\n",
    "print(l)"
   ]
  },
  {
   "cell_type": "markdown",
   "id": "20b58b23",
   "metadata": {},
   "source": [
    "### Answer 13"
   ]
  },
  {
   "cell_type": "code",
   "execution_count": null,
   "id": "d145f2d6",
   "metadata": {},
   "outputs": [],
   "source": [
    "n=input(\"enter::\")\n",
    "l=[]\n",
    "digit=0\n",
    "letter=0\n",
    "for i in n:\n",
    "    if i.isalpha():\n",
    "        letter+=1\n",
    "    elif i.isnumeric():\n",
    "        digit+=1\n",
    "print(\"digit::\",digit)\n",
    "print(\"letter::\",letter)"
   ]
  },
  {
   "cell_type": "markdown",
   "id": "e10f53b8",
   "metadata": {},
   "source": [
    "### Answer 14"
   ]
  },
  {
   "cell_type": "code",
   "execution_count": null,
   "id": "dc5e3632",
   "metadata": {},
   "outputs": [],
   "source": [
    "n=input(\"enter::\")\n",
    "upper=0\n",
    "lower=0\n",
    "for i in n:\n",
    "    if i.isupper():\n",
    "        upper+=1\n",
    "    elif i.islower():\n",
    "        lower+=1\n",
    "print(\"upper::\",upper)\n",
    "print(\"lower::\",lower)"
   ]
  },
  {
   "cell_type": "markdown",
   "id": "8a22a93d",
   "metadata": {},
   "source": [
    "### Answer 15"
   ]
  },
  {
   "cell_type": "code",
   "execution_count": null,
   "id": "0b119e4c",
   "metadata": {},
   "outputs": [],
   "source": [
    "n=int(input(\"enter number\"))\n",
    "l=[]\n",
    "for i in range(1,5):\n",
    "    l.append(int(str(n)*i))\n",
    "print(sum(l))"
   ]
  },
  {
   "cell_type": "markdown",
   "id": "43697aa4",
   "metadata": {},
   "source": [
    "### Answer16"
   ]
  },
  {
   "cell_type": "code",
   "execution_count": null,
   "id": "d8667d80",
   "metadata": {},
   "outputs": [],
   "source": [
    "l=list(map(int,input(\"enter::\").split(\",\")))\n",
    "for i in l:\n",
    "    if i%2!=0:\n",
    "        print(i*i,end=\" \")"
   ]
  },
  {
   "cell_type": "markdown",
   "id": "08d2d044",
   "metadata": {},
   "source": [
    "### Answer 17"
   ]
  },
  {
   "cell_type": "code",
   "execution_count": null,
   "id": "5d780fdd",
   "metadata": {},
   "outputs": [],
   "source": [
    "l=list(map(str,input(\"Enter D for deposit and W for withdrawl and amount\").split()))\n",
    "alp=[]\n",
    "dig=[]\n",
    "sum=0\n",
    "for i in l:\n",
    "    if i.isalpha():\n",
    "        alp.append(i)\n",
    "    else:\n",
    "        dig.append(i)\n",
    "for i,j in zip(alp,dig):\n",
    "    if i ==\"D\":\n",
    "        sum+=int(j)\n",
    "    else:\n",
    "        sum-=int(j)\n",
    "print(sum)\n",
    "        "
   ]
  },
  {
   "cell_type": "markdown",
   "id": "fdf0d5fc",
   "metadata": {},
   "source": [
    "### Answer 18"
   ]
  },
  {
   "cell_type": "code",
   "execution_count": null,
   "id": "3d0d606d",
   "metadata": {},
   "outputs": [],
   "source": [
    "import re\n",
    "l=list(map(str,input(\"Enter passwords::\").split(\",\")))\n",
    "count=0\n",
    "for i in l:\n",
    "    if re.search(r'[a-zA-Z0-9]',i) and len(i)>6 and len(i)<12:\n",
    "        if \"@\" in i or \"$\" in i or \"#\" in i:\n",
    "            print(i)\n",
    "        "
   ]
  },
  {
   "cell_type": "markdown",
   "id": "5077d0a1",
   "metadata": {},
   "source": [
    "### Answer 19"
   ]
  },
  {
   "cell_type": "code",
   "execution_count": null,
   "id": "9eba706f",
   "metadata": {},
   "outputs": [],
   "source": [
    "from operator import itemgetter\n",
    "list=[]\n",
    "while True:\n",
    "    inp=input(\"enter name: age: score= \")\n",
    "    if inp:\n",
    "        list.append(tuple(inp.split(',')))\n",
    "    else:\n",
    "        break\n",
    "print(sorted(list, key=itemgetter(0,1,2)))"
   ]
  },
  {
   "cell_type": "markdown",
   "id": "04d8cc0b",
   "metadata": {},
   "source": [
    "### Answer 20"
   ]
  },
  {
   "cell_type": "code",
   "execution_count": null,
   "id": "16021f34",
   "metadata": {},
   "outputs": [],
   "source": []
  },
  {
   "cell_type": "markdown",
   "id": "4dfab75a",
   "metadata": {},
   "source": [
    "### Answer 21"
   ]
  },
  {
   "cell_type": "code",
   "execution_count": 19,
   "id": "1923c5b4",
   "metadata": {},
   "outputs": [
    {
     "name": "stdout",
     "output_type": "stream",
     "text": [
      "New to Python or choosing between Python 2 and Python 3? Read Python 2 or Python 3.\n",
      "['2', 2]\n",
      "['2', 2]\n",
      "['3.', 1]\n",
      "['3?', 1]\n",
      "['New', 1]\n",
      "['Python', 5]\n",
      "['Python', 5]\n",
      "['Python', 5]\n",
      "['Python', 5]\n",
      "['Python', 5]\n",
      "['Read', 1]\n",
      "['and', 1]\n",
      "['between', 1]\n",
      "['choosing', 1]\n",
      "['or', 2]\n",
      "['or', 2]\n",
      "['to', 1]\n"
     ]
    }
   ],
   "source": [
    "l=[]\n",
    "n=4\n",
    "dis=[]\n",
    "dir=[]\n",
    "for i in range(n):\n",
    "    k=input()\n",
    "    l.append(k)\n",
    "    k1=k.split(\" \")\n",
    "    dir.append(k1[0])\n",
    "    dis.append(int(k1[1]))\n",
    "m=max(dis[0],dis[1])\n",
    "m0=min(dis[0],dis[1])\n",
    "m1=max(dis[2],dis[3])\n",
    "m2=min(dis[2],dis[3])\n",
    "s=m+m1-m0-m2\n",
    "print(s)"
   ]
  },
  {
   "cell_type": "markdown",
   "id": "3739bb81",
   "metadata": {},
   "source": [
    "### Answer 22"
   ]
  },
  {
   "cell_type": "code",
   "execution_count": null,
   "id": "d8bc6e58",
   "metadata": {},
   "outputs": [],
   "source": [
    "n=input()\n",
    "l=n.split()\n",
    "l1=[]\n",
    "l2=[]\n",
    "for i in l:\n",
    "    if i not in l1:\n",
    "        l2.append([i,l.count(i)])\n",
    "l2=sorted(l2)\n",
    "for i in l2:\n",
    "    print(i)"
   ]
  },
  {
   "cell_type": "markdown",
   "id": "3072e59a",
   "metadata": {},
   "source": [
    "### Answer 23"
   ]
  },
  {
   "cell_type": "code",
   "execution_count": 20,
   "id": "5d69d69a",
   "metadata": {},
   "outputs": [
    {
     "name": "stdout",
     "output_type": "stream",
     "text": [
      "36\n",
      "6.0\n"
     ]
    }
   ],
   "source": [
    "import math\n",
    "n=int(input())\n",
    "print(math.sqrt(n))"
   ]
  },
  {
   "cell_type": "markdown",
   "id": "06b2422e",
   "metadata": {},
   "source": [
    "### Answer 24"
   ]
  },
  {
   "cell_type": "code",
   "execution_count": 23,
   "id": "bda3f891",
   "metadata": {},
   "outputs": [
    {
     "name": "stdout",
     "output_type": "stream",
     "text": [
      "Return the absolute value of the argument.\n",
      "int([x]) -> integer\n",
      "int(x, base=10) -> integer\n",
      "\n",
      "Convert a number or string to an integer, or return 0 if no arguments\n",
      "are given.  If x is a number, return x.__int__().  For floating point\n",
      "numbers, this truncates towards zero.\n",
      "\n",
      "If x is not a number or if base is given, then x must be a string,\n",
      "bytes, or bytearray instance representing an integer literal in the\n",
      "given base.  The literal can be preceded by '+' or '-' and be surrounded\n",
      "by whitespace.  The base defaults to 10.  Valid bases are 0 and 2-36.\n",
      "Base 0 means to interpret the base from the string as an integer literal.\n",
      ">>> int('0b100', base=0)\n",
      "4\n",
      "Forward raw_input to frontends\n",
      "\n",
      "        Raises\n",
      "        ------\n",
      "        StdinNotImplementedError if active frontend doesn't support stdin.\n",
      "        \n"
     ]
    }
   ],
   "source": [
    "print(abs.__doc__)\n",
    "print(int.__doc__)\n",
    "print(input.__doc__)"
   ]
  },
  {
   "cell_type": "markdown",
   "id": "78642da5",
   "metadata": {},
   "source": [
    "### Answer 25"
   ]
  },
  {
   "cell_type": "markdown",
   "id": "cfc35b2f",
   "metadata": {},
   "source": [
    "### Answer 26"
   ]
  },
  {
   "cell_type": "code",
   "execution_count": 27,
   "id": "cb206a14",
   "metadata": {},
   "outputs": [
    {
     "name": "stdout",
     "output_type": "stream",
     "text": [
      "2 3\n",
      "5\n"
     ]
    }
   ],
   "source": [
    "def sum(a,b):\n",
    "    return a+b\n",
    "a,b=map(int,input().split())\n",
    "print(sum(a,b))"
   ]
  },
  {
   "cell_type": "markdown",
   "id": "acdb5e98",
   "metadata": {},
   "source": [
    "### Answer 27"
   ]
  },
  {
   "cell_type": "code",
   "execution_count": 29,
   "id": "28e63932",
   "metadata": {},
   "outputs": [
    {
     "name": "stdout",
     "output_type": "stream",
     "text": [
      "6\n",
      "6\n",
      "<class 'str'>\n"
     ]
    }
   ],
   "source": [
    "def convert(n):\n",
    "    print(str(n))\n",
    "    print(type(str(n)))\n",
    "n=int(input())\n",
    "convert(n)"
   ]
  },
  {
   "cell_type": "markdown",
   "id": "3bccdc42",
   "metadata": {},
   "source": [
    "### Answer 28"
   ]
  },
  {
   "cell_type": "code",
   "execution_count": 30,
   "id": "4ca131e6",
   "metadata": {},
   "outputs": [
    {
     "name": "stdout",
     "output_type": "stream",
     "text": [
      "2 5\n",
      "7\n"
     ]
    }
   ],
   "source": [
    "def sum(a,b):\n",
    "    return int(a)+int(b)\n",
    "a,b=map(str,input().split())\n",
    "print(sum(a,b))"
   ]
  },
  {
   "cell_type": "markdown",
   "id": "b8086e81",
   "metadata": {},
   "source": [
    "### Answer 29"
   ]
  },
  {
   "cell_type": "code",
   "execution_count": 31,
   "id": "f2b7ace9",
   "metadata": {},
   "outputs": [
    {
     "name": "stdout",
     "output_type": "stream",
     "text": [
      "hi hello\n",
      "hihello\n"
     ]
    }
   ],
   "source": [
    "a,b=map(str,input().split())\n",
    "print(a+b)"
   ]
  },
  {
   "cell_type": "markdown",
   "id": "37c86540",
   "metadata": {},
   "source": [
    "### Answer 30"
   ]
  },
  {
   "cell_type": "code",
   "execution_count": 32,
   "id": "f88483ba",
   "metadata": {},
   "outputs": [
    {
     "name": "stdout",
     "output_type": "stream",
     "text": [
      "hi hi\n",
      "hi \n",
      " hi\n"
     ]
    }
   ],
   "source": [
    "def compare(a,b):\n",
    "    if len(a)>len(b):\n",
    "        return a\n",
    "    else:\n",
    "        return b\n",
    "    \n",
    "a,b=map(str,input().split())\n",
    "if len(a)==len(b):\n",
    "    print(a,\"\\n\",b)\n",
    "else:\n",
    "    print(compare(a,b))"
   ]
  },
  {
   "cell_type": "markdown",
   "id": "1b2f5b17",
   "metadata": {},
   "source": [
    "### Answer 31"
   ]
  },
  {
   "cell_type": "code",
   "execution_count": 35,
   "id": "8d20b00d",
   "metadata": {},
   "outputs": [
    {
     "name": "stdout",
     "output_type": "stream",
     "text": [
      "{1: 1, 2: 4, 3: 9, 4: 16, 5: 25, 6: 36, 7: 49, 8: 64, 9: 81, 10: 100, 11: 121, 12: 144, 13: 169, 14: 196, 15: 225, 16: 256, 17: 289, 18: 324, 19: 361, 20: 400}\n"
     ]
    }
   ],
   "source": [
    "dict={}\n",
    "\n",
    "for i in range(1,21):\n",
    "    dict[i]=i*i\n",
    "print(dict)"
   ]
  },
  {
   "cell_type": "markdown",
   "id": "00802ab4",
   "metadata": {},
   "source": [
    "### Answer 32"
   ]
  },
  {
   "cell_type": "code",
   "execution_count": 40,
   "id": "41e07847",
   "metadata": {},
   "outputs": [
    {
     "name": "stdout",
     "output_type": "stream",
     "text": [
      "{1: 1.0, 2: 1.4142135623730951, 3: 1.7320508075688772, 4: 2.0, 5: 2.23606797749979, 6: 2.449489742783178, 7: 2.6457513110645907, 8: 2.8284271247461903, 9: 3.0, 10: 3.1622776601683795, 11: 3.3166247903554, 12: 3.4641016151377544, 13: 3.605551275463989, 14: 3.7416573867739413, 15: 3.872983346207417, 16: 4.0, 17: 4.123105625617661, 18: 4.242640687119285, 19: 4.358898943540674, 20: 4.47213595499958}\n"
     ]
    }
   ],
   "source": [
    "import math\n",
    "def ret():\n",
    "    dict={}\n",
    "    for i in range(1,21):\n",
    "        dict[i]=math.sqrt(i)\n",
    "    print(dict)\n",
    "ret()"
   ]
  },
  {
   "cell_type": "markdown",
   "id": "d21215c7",
   "metadata": {},
   "source": [
    "### Answer 33"
   ]
  },
  {
   "cell_type": "code",
   "execution_count": 43,
   "id": "5cfc410f",
   "metadata": {},
   "outputs": [
    {
     "name": "stdout",
     "output_type": "stream",
     "text": [
      "[1, 4, 9, 16, 25, 36, 49, 64, 81, 100, 121, 144, 169, 196, 225, 256, 289, 324, 361, 400]\n"
     ]
    }
   ],
   "source": [
    "def ret(i):\n",
    "    return i*i\n",
    "l=[]\n",
    "for i in range(1,21):\n",
    "    l.append(ret(i))\n",
    "print(l)"
   ]
  },
  {
   "cell_type": "markdown",
   "id": "d0101ff2",
   "metadata": {},
   "source": [
    "### Answer 34"
   ]
  },
  {
   "cell_type": "code",
   "execution_count": 42,
   "id": "4547d27e",
   "metadata": {},
   "outputs": [
    {
     "name": "stdout",
     "output_type": "stream",
     "text": [
      "1\n",
      "4\n",
      "9\n",
      "16\n",
      "25\n"
     ]
    }
   ],
   "source": [
    "def ret(i):\n",
    "    return i*i\n",
    "count=0\n",
    "for i in range(1,21):\n",
    "    if count==5:\n",
    "        break\n",
    "    else:\n",
    "        print(ret(i))\n",
    "        count+=1"
   ]
  },
  {
   "cell_type": "markdown",
   "id": "7159814b",
   "metadata": {},
   "source": [
    "### Answer 35"
   ]
  },
  {
   "cell_type": "code",
   "execution_count": 44,
   "id": "155dd15b",
   "metadata": {},
   "outputs": [
    {
     "name": "stdout",
     "output_type": "stream",
     "text": [
      "1\n",
      "4\n",
      "9\n",
      "16\n",
      "25\n"
     ]
    }
   ],
   "source": [
    "def ret(i):\n",
    "    return i*i\n",
    "count=0\n",
    "for i in range(1,21):\n",
    "    if count==5:\n",
    "        break\n",
    "    else:\n",
    "        print(ret(i))\n",
    "        count+=1"
   ]
  },
  {
   "cell_type": "markdown",
   "id": "973186ca",
   "metadata": {},
   "source": [
    "### Answer 36"
   ]
  },
  {
   "cell_type": "code",
   "execution_count": 49,
   "id": "59c1f1e7",
   "metadata": {},
   "outputs": [
    {
     "name": "stdout",
     "output_type": "stream",
     "text": [
      "[36, 49, 64, 81, 100, 121, 144, 169, 196, 225, 256, 289, 324, 361, 400]\n"
     ]
    }
   ],
   "source": [
    "def ret(i):\n",
    "    return i*i\n",
    "count=0\n",
    "l=[]\n",
    "for i in range(1,21):\n",
    "    l.append(ret(i))\n",
    "print(l[5:])"
   ]
  },
  {
   "cell_type": "markdown",
   "id": "ec47ec8d",
   "metadata": {},
   "source": [
    "### Answer 37"
   ]
  },
  {
   "cell_type": "code",
   "execution_count": 50,
   "id": "e0a34d31",
   "metadata": {},
   "outputs": [
    {
     "name": "stdout",
     "output_type": "stream",
     "text": [
      "(1, 4, 9, 16, 25, 36, 49, 64, 81, 100, 121, 144, 169, 196, 225, 256, 289, 324, 361, 400)\n"
     ]
    }
   ],
   "source": [
    "def ret(i):\n",
    "    return i*i\n",
    "count=0\n",
    "l=[]\n",
    "for i in range(1,21):\n",
    "    l.append(ret(i))\n",
    "l1=tuple(l)\n",
    "print(l1)"
   ]
  },
  {
   "cell_type": "markdown",
   "id": "378539fd",
   "metadata": {},
   "source": [
    "### Answer 38\n"
   ]
  },
  {
   "cell_type": "code",
   "execution_count": 51,
   "id": "4bb56daf",
   "metadata": {},
   "outputs": [
    {
     "name": "stdout",
     "output_type": "stream",
     "text": [
      "(1, 4, 9, 16, 25, 36, 49, 64, 81, 100)\n",
      "(121, 144, 169, 196, 225, 256, 289, 324, 361, 400)\n"
     ]
    }
   ],
   "source": [
    "def ret(i):\n",
    "    return i*i\n",
    "count=0\n",
    "l=[]\n",
    "for i in range(1,21):\n",
    "    l.append(ret(i))\n",
    "l1=tuple(l)\n",
    "l=len(l1)\n",
    "print(l1[:l//2])\n",
    "print(l1[l//2:])"
   ]
  },
  {
   "cell_type": "markdown",
   "id": "2df1f2fa",
   "metadata": {},
   "source": [
    "### Answer 39"
   ]
  },
  {
   "cell_type": "code",
   "execution_count": 53,
   "id": "e8ead086",
   "metadata": {},
   "outputs": [
    {
     "name": "stdout",
     "output_type": "stream",
     "text": [
      "(2, 4, 6, 8, 10)\n"
     ]
    }
   ],
   "source": [
    "l=[1,2,3,4,5,6,7,8,9,10]\n",
    "l1=[]\n",
    "for i in l:\n",
    "    if i%2==0:\n",
    "        l1.append(i)\n",
    "print(tuple(l1))"
   ]
  },
  {
   "cell_type": "markdown",
   "id": "25e223f4",
   "metadata": {},
   "source": [
    "### Answer 40\n"
   ]
  },
  {
   "cell_type": "code",
   "execution_count": 54,
   "id": "64ed5c38",
   "metadata": {},
   "outputs": [
    {
     "name": "stdout",
     "output_type": "stream",
     "text": [
      "yes\n",
      "yes\n"
     ]
    }
   ],
   "source": [
    "n=input()\n",
    "if n==\"Yes\" or n==\"YES\" or n==\"yes\":\n",
    "    print(n)\n",
    "else:\n",
    "    print(\"no\")"
   ]
  },
  {
   "cell_type": "markdown",
   "id": "1ae3aa19",
   "metadata": {},
   "source": [
    "### Answer 41\n"
   ]
  },
  {
   "cell_type": "code",
   "execution_count": 55,
   "id": "b3b4d201",
   "metadata": {},
   "outputs": [
    {
     "name": "stdout",
     "output_type": "stream",
     "text": [
      "[1, 4, 9, 16, 25, 36, 49, 64, 81, 100]\n"
     ]
    }
   ],
   "source": [
    "l= [1,2,3,4,5,6,7,8,9,10]\n",
    "res=map(lambda x:x*x,l)\n",
    "print(list(res))"
   ]
  },
  {
   "cell_type": "markdown",
   "id": "de36fffd",
   "metadata": {},
   "source": [
    "### Answer 42\n"
   ]
  },
  {
   "cell_type": "code",
   "execution_count": 56,
   "id": "a24aba31",
   "metadata": {},
   "outputs": [
    {
     "name": "stdout",
     "output_type": "stream",
     "text": [
      "[4, 16, 36, 64, 100]\n"
     ]
    }
   ],
   "source": [
    "l= [1,2,3,4,5,6,7,8,9,10]\n",
    "res=map(lambda x:x*x,l)\n",
    "res1=filter(lambda x: x % 2 == 0, res)\n",
    "print(list(res1))"
   ]
  },
  {
   "cell_type": "markdown",
   "id": "f07af2c2",
   "metadata": {},
   "source": [
    "### Answer 43\n"
   ]
  },
  {
   "cell_type": "code",
   "execution_count": 58,
   "id": "c8742452",
   "metadata": {},
   "outputs": [
    {
     "name": "stdout",
     "output_type": "stream",
     "text": [
      "[2, 4, 6, 8, 10, 12, 14, 16, 18, 20]\n"
     ]
    }
   ],
   "source": [
    "l= [1,2,3,4,5,6,7,8,9,10,11,12,13,14,15,16,17,18,19,20]\n",
    "res1=filter(lambda x: x % 2 == 0, l)\n",
    "print(list(res1))"
   ]
  },
  {
   "cell_type": "markdown",
   "id": "635b0581",
   "metadata": {},
   "source": [
    "### Answer 44\n"
   ]
  },
  {
   "cell_type": "code",
   "execution_count": 62,
   "id": "6ce32229",
   "metadata": {},
   "outputs": [
    {
     "name": "stdout",
     "output_type": "stream",
     "text": [
      "[1.0, 1.4142135623730951, 1.7320508075688772, 2.0, 2.23606797749979, 2.449489742783178, 2.6457513110645907, 2.8284271247461903, 3.0, 3.1622776601683795, 3.3166247903554, 3.4641016151377544, 3.605551275463989, 3.7416573867739413, 3.872983346207417, 4.0, 4.123105625617661, 4.242640687119285, 4.358898943540674, 4.47213595499958]\n"
     ]
    }
   ],
   "source": [
    "import math\n",
    "l= [1,2,3,4,5,6,7,8,9,10,11,12,13,14,15,16,17,18,19,20]\n",
    "res1=map(lambda x: math.sqrt(x), l)\n",
    "print(list(res1))"
   ]
  },
  {
   "cell_type": "markdown",
   "id": "2938564a",
   "metadata": {},
   "source": [
    "### Answer 45\n"
   ]
  },
  {
   "cell_type": "code",
   "execution_count": 67,
   "id": "8a3897c7",
   "metadata": {},
   "outputs": [
    {
     "name": "stdout",
     "output_type": "stream",
     "text": [
      "India\n"
     ]
    }
   ],
   "source": [
    "class America:\n",
    "    def __init__(self,nationality):\n",
    "        self.nationality=nationality\n",
    "    @staticmethod\n",
    "    def printNationality(nationality):\n",
    "        return nationality\n",
    "america=America(\"India\")\n",
    "print(america.printNationality(\"India\"))\n",
    "        "
   ]
  },
  {
   "cell_type": "markdown",
   "id": "72868215",
   "metadata": {},
   "source": [
    "### Answer 46\n",
    "\n"
   ]
  },
  {
   "cell_type": "code",
   "execution_count": 68,
   "id": "37ed1556",
   "metadata": {},
   "outputs": [
    {
     "name": "stdout",
     "output_type": "stream",
     "text": [
      "India\n"
     ]
    }
   ],
   "source": [
    "class America:\n",
    "    def __init__(self,nationality):\n",
    "        self.nationality=nationality\n",
    "    @staticmethod\n",
    "    def printNationality(nationality):\n",
    "        return nationality\n",
    "class NewYork(America):\n",
    "    def __init__(self):\n",
    "        America.__init__(self)\n",
    "america=America(\"India\")\n",
    "print(america.printNationality(\"India\"))"
   ]
  },
  {
   "cell_type": "markdown",
   "id": "0950aee7",
   "metadata": {},
   "source": [
    "### Answer 47\n"
   ]
  },
  {
   "cell_type": "code",
   "execution_count": 72,
   "id": "70338618",
   "metadata": {},
   "outputs": [
    {
     "name": "stdout",
     "output_type": "stream",
     "text": [
      "400\n"
     ]
    }
   ],
   "source": [
    "class Circle:\n",
    "    def __init__(self,radius):\n",
    "        self.radius=radius\n",
    "    def printarea(self,radius):\n",
    "        return radius*radius\n",
    "circle=Circle(20)\n",
    "print(circle.printarea(20))"
   ]
  },
  {
   "cell_type": "markdown",
   "id": "f07d3cfc",
   "metadata": {},
   "source": [
    "### Answer 48\n"
   ]
  },
  {
   "cell_type": "code",
   "execution_count": 73,
   "id": "c5675941",
   "metadata": {},
   "outputs": [
    {
     "name": "stdout",
     "output_type": "stream",
     "text": [
      "600\n"
     ]
    }
   ],
   "source": [
    "class Rectangle:\n",
    "    def __init__(self,length,breadth):\n",
    "        self.length=length\n",
    "        self.breadth=breadth\n",
    "    def printarea(self,breadth,length):\n",
    "        return length*breadth\n",
    "rectangle=Rectangle(20,30)\n",
    "print(rectangle.printarea(20,30))"
   ]
  },
  {
   "cell_type": "markdown",
   "id": "e7fb425c",
   "metadata": {},
   "source": [
    "### Answer 49\n"
   ]
  },
  {
   "cell_type": "code",
   "execution_count": 77,
   "id": "a89d916e",
   "metadata": {},
   "outputs": [
    {
     "name": "stdout",
     "output_type": "stream",
     "text": [
      "900\n"
     ]
    }
   ],
   "source": [
    "class Shape:\n",
    "    def __init__(self,side):\n",
    "        self.side=side\n",
    "    def printarea(self,side):\n",
    "        return side*side\n",
    "class Square(Shape):\n",
    "    def __init__(self,side):\n",
    "        self.side=side\n",
    "    def printarea(self,side):\n",
    "        return side*side\n",
    "square=Square(30)\n",
    "print(square.printarea(30))"
   ]
  },
  {
   "cell_type": "markdown",
   "id": "309c4e83",
   "metadata": {},
   "source": [
    "### Answer 50"
   ]
  },
  {
   "cell_type": "code",
   "execution_count": 99,
   "id": "799e44a1",
   "metadata": {},
   "outputs": [
    {
     "ename": "IndexError",
     "evalue": "list index out of range",
     "output_type": "error",
     "traceback": [
      "\u001b[1;31m---------------------------------------------------------------------------\u001b[0m",
      "\u001b[1;31mIndexError\u001b[0m                                Traceback (most recent call last)",
      "Input \u001b[1;32mIn [99]\u001b[0m, in \u001b[0;36m<cell line: 2>\u001b[1;34m()\u001b[0m\n\u001b[0;32m      1\u001b[0m a\u001b[38;5;241m=\u001b[39m[\u001b[38;5;241m1\u001b[39m,\u001b[38;5;241m2\u001b[39m]\n\u001b[0;32m      2\u001b[0m \u001b[38;5;28;01mtry\u001b[39;00m:\n\u001b[1;32m----> 3\u001b[0m     \u001b[38;5;28mprint\u001b[39m(\u001b[43ma\u001b[49m\u001b[43m[\u001b[49m\u001b[38;5;241;43m2\u001b[39;49m\u001b[43m]\u001b[49m)\n\u001b[0;32m      4\u001b[0m     \u001b[38;5;28;01mraise\u001b[39;00m \u001b[38;5;167;01mRuntimeError\u001b[39;00m\n\u001b[0;32m      5\u001b[0m \u001b[38;5;28;01mexcept\u001b[39;00m \u001b[38;5;167;01mRuntimeError\u001b[39;00m:\n",
      "\u001b[1;31mIndexError\u001b[0m: list index out of range"
     ]
    }
   ],
   "source": [
    "a=[1,2]\n",
    "try:\n",
    "    print(a[2])\n",
    "    raise RuntimeError\n",
    "except RuntimeError:\n",
    "    print(\"not possible\")"
   ]
  },
  {
   "cell_type": "markdown",
   "id": "a7c49902",
   "metadata": {},
   "source": [
    "### Answer 51\n"
   ]
  },
  {
   "cell_type": "code",
   "execution_count": 93,
   "id": "b38dcbc4",
   "metadata": {},
   "outputs": [
    {
     "name": "stdout",
     "output_type": "stream",
     "text": [
      "not possible\n"
     ]
    }
   ],
   "source": [
    "try:\n",
    "    r=5/0\n",
    "    print(r)\n",
    "except:\n",
    "    print(\"not possible\")"
   ]
  },
  {
   "cell_type": "markdown",
   "id": "64076f8c",
   "metadata": {},
   "source": [
    "### Answer 52"
   ]
  },
  {
   "cell_type": "markdown",
   "id": "9cd6d707",
   "metadata": {},
   "source": [
    "### Answer 53\n"
   ]
  },
  {
   "cell_type": "code",
   "execution_count": 101,
   "id": "b356ebfb",
   "metadata": {},
   "outputs": [
    {
     "name": "stdout",
     "output_type": "stream",
     "text": [
      "john@google.com\n",
      "john\n"
     ]
    }
   ],
   "source": [
    "n=input()\n",
    "name=\"\"\n",
    "for i in n:\n",
    "    if i!=\"@\":\n",
    "        name+=i\n",
    "    else:\n",
    "        break\n",
    "print(name)"
   ]
  },
  {
   "cell_type": "markdown",
   "id": "22e4b0e9",
   "metadata": {},
   "source": [
    "### Answer 54"
   ]
  },
  {
   "cell_type": "code",
   "execution_count": 109,
   "id": "3e270dfc",
   "metadata": {},
   "outputs": [
    {
     "name": "stdout",
     "output_type": "stream",
     "text": [
      "john@google.com\n",
      "google\n"
     ]
    }
   ],
   "source": [
    "n=input()\n",
    "name=\"\"\n",
    "x=n.split(\"@\")\n",
    "x1=x[1].split(\".\")\n",
    "name=x1[0]   \n",
    "    \n",
    "    \n",
    "print(name)"
   ]
  },
  {
   "cell_type": "markdown",
   "id": "32699302",
   "metadata": {},
   "source": [
    "### Answer 55"
   ]
  },
  {
   "cell_type": "code",
   "execution_count": 130,
   "id": "aec88342",
   "metadata": {},
   "outputs": [
    {
     "name": "stdout",
     "output_type": "stream",
     "text": [
      "enter::2 cats and 3 dogs.\n",
      "['2', '3']\n"
     ]
    }
   ],
   "source": [
    "n=input(\"enter::\")\n",
    "l=[]\n",
    "digit=0\n",
    "\n",
    "for i in n:\n",
    "    if i.isnumeric():\n",
    "        l.append(i)\n",
    "print(l)"
   ]
  },
  {
   "cell_type": "markdown",
   "id": "c28b4a91",
   "metadata": {},
   "source": [
    "### Answer 56"
   ]
  },
  {
   "cell_type": "code",
   "execution_count": 132,
   "id": "d2364010",
   "metadata": {},
   "outputs": [
    {
     "name": "stdout",
     "output_type": "stream",
     "text": [
      "Hello, world!\n"
     ]
    }
   ],
   "source": [
    "print(u'Hello, world!')"
   ]
  },
  {
   "cell_type": "markdown",
   "id": "fd641bf0",
   "metadata": {},
   "source": [
    "### Answer 57"
   ]
  },
  {
   "cell_type": "code",
   "execution_count": 136,
   "id": "eeaa6bc0",
   "metadata": {},
   "outputs": [
    {
     "data": {
      "text/plain": [
       "b'hey you'"
      ]
     },
     "execution_count": 136,
     "metadata": {},
     "output_type": "execute_result"
    }
   ],
   "source": [
    "s=\"hey you\"\n",
    "s.encode(\"UTF-8\")"
   ]
  },
  {
   "cell_type": "markdown",
   "id": "bffd2851",
   "metadata": {},
   "source": [
    "### Answer 58"
   ]
  },
  {
   "cell_type": "code",
   "execution_count": 137,
   "id": "95fdd9ed",
   "metadata": {},
   "outputs": [
    {
     "data": {
      "text/plain": [
       "b'hey you'"
      ]
     },
     "execution_count": 137,
     "metadata": {},
     "output_type": "execute_result"
    }
   ],
   "source": [
    "s=\"hey you\"\n",
    "s.encode(\"UTF-8\")"
   ]
  },
  {
   "cell_type": "markdown",
   "id": "61bf0f54",
   "metadata": {},
   "source": [
    "### Answer 59"
   ]
  },
  {
   "cell_type": "code",
   "execution_count": 139,
   "id": "152fca67",
   "metadata": {},
   "outputs": [
    {
     "name": "stdout",
     "output_type": "stream",
     "text": [
      "Enter a number: 5\n",
      "3.55\n"
     ]
    }
   ],
   "source": [
    "num = int(input(\"Enter a number: \"))\n",
    "newnum = 0\n",
    "\n",
    "for each in range(1,num+1):\n",
    "    newnum = newnum+(each/(each+1))\n",
    "\n",
    "print(round(newnum,2))"
   ]
  },
  {
   "cell_type": "markdown",
   "id": "697c1e47",
   "metadata": {},
   "source": [
    "### Answer 60"
   ]
  },
  {
   "cell_type": "code",
   "execution_count": 1,
   "id": "934fbb82",
   "metadata": {},
   "outputs": [
    {
     "name": "stdout",
     "output_type": "stream",
     "text": [
      "5\n",
      "500\n"
     ]
    }
   ],
   "source": [
    "def fun(n):\n",
    "    if n==0:\n",
    "        return 0\n",
    "    else:\n",
    "        return fun(n-1)+100\n",
    "n=int(input())\n",
    "print(fun(n))"
   ]
  },
  {
   "cell_type": "markdown",
   "id": "823f3819",
   "metadata": {},
   "source": [
    "### Answer 61"
   ]
  },
  {
   "cell_type": "code",
   "execution_count": 4,
   "id": "bae9f049",
   "metadata": {},
   "outputs": [
    {
     "name": "stdout",
     "output_type": "stream",
     "text": [
      "13\n"
     ]
    }
   ],
   "source": [
    "def Fibonacci(n):\n",
    "    if n < 0:\n",
    "        print(\"Incorrect input\")\n",
    "\n",
    "    elif n == 0:\n",
    "        return 0\n",
    "\n",
    "    elif n == 1 or n == 2:\n",
    "        return 1\n",
    " \n",
    "    else:\n",
    "        return Fibonacci(n-1) + Fibonacci(n-2)\n",
    "\n",
    "print(Fibonacci(7))"
   ]
  },
  {
   "cell_type": "markdown",
   "id": "52fd2caa",
   "metadata": {},
   "source": [
    "### Answer 62"
   ]
  },
  {
   "cell_type": "code",
   "execution_count": 5,
   "id": "d7d3592a",
   "metadata": {},
   "outputs": [
    {
     "name": "stdout",
     "output_type": "stream",
     "text": [
      "Enter input: 7\n",
      "0,1,1,2,3,5,8,13,"
     ]
    }
   ],
   "source": [
    "def f(n):\n",
    "    if n == 0:\n",
    "        return 0\n",
    "    elif n==1:\n",
    "        return 1\n",
    "    else:\n",
    "        return f(n-1) + f(n-2)\n",
    "\n",
    "no = int(input(\"Enter input: \"))\n",
    "for i in range(no+1):\n",
    "    print(f(i),end=',')"
   ]
  },
  {
   "cell_type": "markdown",
   "id": "ca6fd502",
   "metadata": {},
   "source": [
    "### Answer 63"
   ]
  },
  {
   "cell_type": "code",
   "execution_count": 6,
   "id": "b988e1e0",
   "metadata": {},
   "outputs": [
    {
     "name": "stdout",
     "output_type": "stream",
     "text": [
      "enter a number55\n",
      "0,2,4,6,8,10,12,14,16,18,20,22,24,26,28,30,32,34,36,38,40,42,44,46,48,50,52,54,"
     ]
    }
   ],
   "source": [
    "no=int(input(\"enter a number\"))\n",
    "for i in range(no+1):\n",
    "    if(i%2==0):\n",
    "        print(i,end=',')"
   ]
  },
  {
   "cell_type": "markdown",
   "id": "691accd5",
   "metadata": {},
   "source": [
    "### Answer 64"
   ]
  },
  {
   "cell_type": "code",
   "execution_count": 25,
   "id": "b951b904",
   "metadata": {},
   "outputs": [
    {
     "name": "stdout",
     "output_type": "stream",
     "text": [
      "enter a number55\n",
      "0,35,"
     ]
    }
   ],
   "source": [
    "no=int(input(\"enter a number\"))\n",
    "for i in range(no+1):\n",
    "    if(i%5==0 and i%7==0):\n",
    "        print(i,end=',')"
   ]
  },
  {
   "cell_type": "markdown",
   "id": "3b9f28a7",
   "metadata": {},
   "source": [
    "### Answer 65"
   ]
  },
  {
   "cell_type": "code",
   "execution_count": null,
   "id": "909254d7",
   "metadata": {},
   "outputs": [],
   "source": [
    "l=[1,2,3,4,5,6,7,8,9,10]\n",
    "for i in l:\n",
    "    assert(i%2==0)"
   ]
  },
  {
   "cell_type": "markdown",
   "id": "d4cf6feb",
   "metadata": {},
   "source": [
    "### Answer 66"
   ]
  },
  {
   "cell_type": "code",
   "execution_count": 2,
   "id": "a2a66181",
   "metadata": {},
   "outputs": [
    {
     "name": "stdout",
     "output_type": "stream",
     "text": [
      "10+10\n",
      "20\n"
     ]
    }
   ],
   "source": [
    "exp=input()\n",
    "print(eval(exp))"
   ]
  },
  {
   "cell_type": "markdown",
   "id": "9f9cb8a9",
   "metadata": {},
   "source": [
    "### Answer 67"
   ]
  },
  {
   "cell_type": "code",
   "execution_count": 6,
   "id": "db96e3f1",
   "metadata": {},
   "outputs": [
    {
     "name": "stdout",
     "output_type": "stream",
     "text": [
      "found\n"
     ]
    }
   ],
   "source": [
    "l=[1,2,3,4,5,6,7,8,9]\n",
    "if 2 in l:\n",
    "    print(\"found\")\n"
   ]
  },
  {
   "cell_type": "markdown",
   "id": "af6435f4",
   "metadata": {},
   "source": [
    "### Answer 68"
   ]
  },
  {
   "cell_type": "code",
   "execution_count": 10,
   "id": "0fde82ee",
   "metadata": {},
   "outputs": [
    {
     "name": "stdout",
     "output_type": "stream",
     "text": [
      "21.0\n"
     ]
    }
   ],
   "source": [
    "import random\n",
    "n = float(random.randint(10,100))\n",
    "print(n)"
   ]
  },
  {
   "cell_type": "markdown",
   "id": "3d786379",
   "metadata": {},
   "source": [
    "### Answer 69"
   ]
  },
  {
   "cell_type": "code",
   "execution_count": 8,
   "id": "bb6c0de3",
   "metadata": {},
   "outputs": [
    {
     "name": "stdout",
     "output_type": "stream",
     "text": [
      "54\n"
     ]
    }
   ],
   "source": [
    "import random\n",
    "n = random.randint(5,95)\n",
    "print(n)"
   ]
  },
  {
   "cell_type": "markdown",
   "id": "36fc59bb",
   "metadata": {},
   "source": [
    "### Answer 70"
   ]
  },
  {
   "cell_type": "code",
   "execution_count": 11,
   "id": "2485b956",
   "metadata": {},
   "outputs": [
    {
     "name": "stdout",
     "output_type": "stream",
     "text": [
      "4\n"
     ]
    }
   ],
   "source": [
    "l=[2,4,6,8,10]\n",
    "print(random.choice(l))"
   ]
  },
  {
   "cell_type": "markdown",
   "id": "4c43b8cf",
   "metadata": {},
   "source": [
    "### Answer 71"
   ]
  },
  {
   "cell_type": "code",
   "execution_count": 12,
   "id": "0af02b4e",
   "metadata": {},
   "outputs": [
    {
     "name": "stdout",
     "output_type": "stream",
     "text": [
      "105\n"
     ]
    }
   ],
   "source": [
    "l=[]\n",
    "for i in range(10,151):\n",
    "    if i%5==0 and i%7==0:\n",
    "        l.append(i)\n",
    "print(random.choice(l))"
   ]
  },
  {
   "cell_type": "markdown",
   "id": "70479ec6",
   "metadata": {},
   "source": [
    "### Answer 72"
   ]
  },
  {
   "cell_type": "code",
   "execution_count": 19,
   "id": "76a05383",
   "metadata": {},
   "outputs": [
    {
     "name": "stdout",
     "output_type": "stream",
     "text": [
      "[146, 132, 198, 164, 142]\n"
     ]
    }
   ],
   "source": [
    "from random import sample\n",
    "l = [] \n",
    "for i in range(100,201):\n",
    "    if i%2==0:\n",
    "        l.append(i)\n",
    "print(sample(l,5))"
   ]
  },
  {
   "cell_type": "markdown",
   "id": "e13115d5",
   "metadata": {},
   "source": [
    "### Answer 73"
   ]
  },
  {
   "cell_type": "code",
   "execution_count": 20,
   "id": "85782ec6",
   "metadata": {},
   "outputs": [
    {
     "name": "stdout",
     "output_type": "stream",
     "text": [
      "[122, 118, 114, 136, 196]\n"
     ]
    }
   ],
   "source": [
    "from random import sample\n",
    "l = [] \n",
    "for i in range(100,201):\n",
    "    if i%2==0:\n",
    "        l.append(i)\n",
    "print(sample(l,5))"
   ]
  },
  {
   "cell_type": "markdown",
   "id": "a315f353",
   "metadata": {},
   "source": [
    "### Answer 74\n"
   ]
  },
  {
   "cell_type": "code",
   "execution_count": 21,
   "id": "931396fe",
   "metadata": {},
   "outputs": [
    {
     "name": "stdout",
     "output_type": "stream",
     "text": [
      "[350, 140, 560, 875, 455]\n"
     ]
    }
   ],
   "source": [
    "from random import sample\n",
    "l=[]\n",
    "for i in range(1,1000):\n",
    "    if i%5==0 and i%7==0:\n",
    "        l.append(i)\n",
    "print(sample(l,5))"
   ]
  },
  {
   "cell_type": "markdown",
   "id": "05891b36",
   "metadata": {},
   "source": [
    "### Answer 75"
   ]
  }
 ],
 "metadata": {
  "kernelspec": {
   "display_name": "Python 3 (ipykernel)",
   "language": "python",
   "name": "python3"
  },
  "language_info": {
   "codemirror_mode": {
    "name": "ipython",
    "version": 3
   },
   "file_extension": ".py",
   "mimetype": "text/x-python",
   "name": "python",
   "nbconvert_exporter": "python",
   "pygments_lexer": "ipython3",
   "version": "3.10.4"
  }
 },
 "nbformat": 4,
 "nbformat_minor": 5
}
